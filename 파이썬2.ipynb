{
  "nbformat": 4,
  "nbformat_minor": 0,
  "metadata": {
    "colab": {
      "provenance": []
    },
    "kernelspec": {
      "name": "python3",
      "display_name": "Python 3"
    },
    "language_info": {
      "name": "python"
    }
  },
  "cells": [
    {
      "cell_type": "code",
      "execution_count": 23,
      "metadata": {
        "colab": {
          "base_uri": "https://localhost:8080/"
        },
        "id": "vIUfslfKqi2m",
        "outputId": "8a544b64-4d27-49eb-e506-40269a570e35"
      },
      "outputs": [
        {
          "output_type": "stream",
          "name": "stdout",
          "text": [
            "성적을 입력하세요50\n",
            "성적은 F입니다\n"
          ]
        }
      ],
      "source": [
        "score = int(input(\"성적을 입력하세요\"))\n",
        "if score >= 90:\n",
        "  grade = \"A\"\n",
        "elif score >=80:\n",
        "  grade = \"B\"\n",
        "elif score >=70:\n",
        "  grade = \"C\"\n",
        "else:\n",
        "  grade = \"F\"\n",
        "\n",
        "print(f\"성적은 {grade}입니다\")"
      ]
    },
    {
      "cell_type": "code",
      "source": [
        "a= 20\n",
        "b= 111\n",
        "print(a if a>b else b)"
      ],
      "metadata": {
        "colab": {
          "base_uri": "https://localhost:8080/"
        },
        "id": "jpRoA1h_vpKv",
        "outputId": "c39e8bab-d6c5-47d2-ab24-14ff0c73bf0c"
      },
      "execution_count": 30,
      "outputs": [
        {
          "output_type": "stream",
          "name": "stdout",
          "text": [
            "111\n"
          ]
        }
      ]
    },
    {
      "cell_type": "code",
      "source": [
        "score = int(input(\"score\"))\n",
        "print(\"A\") if score >=90 else (print(\"B\") if score >=80 else print(\"C\"))"
      ],
      "metadata": {
        "colab": {
          "base_uri": "https://localhost:8080/"
        },
        "id": "Ra222d9bxQtX",
        "outputId": "c11490a6-e91d-4927-96c5-d592e43c7fb0"
      },
      "execution_count": 34,
      "outputs": [
        {
          "output_type": "stream",
          "name": "stdout",
          "text": [
            "score100\n",
            "A\n"
          ]
        }
      ]
    },
    {
      "cell_type": "code",
      "source": [
        "print(\"[성적 계산기]\")\n",
        "korean = int(input(\"국어 성적을 입력하세요\"))\n",
        "english = int(input(\"영어 성적을 입력하세요\"))\n",
        "math = int(input(\"수학 성적을 입력하세요\"))\n",
        "\n",
        "korean_score = korean * 0.4\n",
        "english_score = english * 0.4\n",
        "math_score = math * 0.2\n",
        "\n",
        "total_avg = ((korean_score)+(english_score)+(math_score))\n",
        "if total_avg >= 90:\n",
        "  grade = \"A\"\n",
        "elif total_avg >=80:\n",
        "  grade = \"B\"\n",
        "elif total_avg >=70:\n",
        "  grade = \"C\"\n",
        "elif total_avg >=60:\n",
        "  grade = \"D\"\n",
        "else :\n",
        "  grade = \"F\"\n",
        "\n",
        "print(\"[성적 결과]\")\n",
        "print(f\"국어:{korean}, 영어:{english}, 수학:{math}\")\n",
        "print(f\"각 과목의 평균 점수:{korean:.2f}점,{english:.2f}점,{math:.2f}점 \")\n",
        "print(f\"총 평균 점수:{total_avg:.2f}\")\n",
        "print(f\"학점:{grade}\")\n",
        "\n"
      ],
      "metadata": {
        "colab": {
          "base_uri": "https://localhost:8080/"
        },
        "id": "Av0BK6hiypFg",
        "outputId": "7f602a92-d011-4b5a-916e-a3d4074c04d1"
      },
      "execution_count": 43,
      "outputs": [
        {
          "output_type": "stream",
          "name": "stdout",
          "text": [
            "[성적 계산기]\n",
            "국어 성적을 입력하세요89\n",
            "영어 성적을 입력하세요79\n",
            "수학 성적을 입력하세요70\n",
            "[성적 결과]\n",
            "국어:89, 영어:79, 수학:70\n",
            "각 과목의 평균 점수:89.00점,79.00점,70.00점 \n",
            "총 평균 점수:81.20\n",
            "학점:B\n"
          ]
        }
      ]
    }
  ]
}