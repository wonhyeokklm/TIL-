{
  "nbformat": 4,
  "nbformat_minor": 0,
  "metadata": {
    "colab": {
      "provenance": []
    },
    "kernelspec": {
      "name": "python3",
      "display_name": "Python 3"
    },
    "language_info": {
      "name": "python"
    }
  },
  "cells": [
    {
      "cell_type": "code",
      "execution_count": null,
      "metadata": {
        "id": "aLl0OudPDF2y"
      },
      "outputs": [],
      "source": []
    },
    {
      "cell_type": "markdown",
      "source": [
        "코랩 파이썬 개발 환경입니다.\n",
        "\n",
        "# 1. 제목\n",
        "\n",
        "## 1.1 제목\n",
        "\n",
        "### 1.1.1 제목\n",
        "\n",
        "- 리스트 1\n",
        "- 리스트 2\n",
        "- 리스트 3\n",
        " - 들여쓰기 리스트\n",
        "\n",
        " > 인용구문\n",
        "\n",
        "1. 번호 리스트 1\n",
        "2. 번호 리스트 2\n",
        "3. 번호 리스트 3"
      ],
      "metadata": {
        "id": "h8eU2CuKEDE3"
      }
    },
    {
      "cell_type": "code",
      "source": [
        "x = 10 #주석.\n",
        "''' 여기는\n",
        "   주석입니다'''\n",
        "\n",
        "\"\"\" 여기도\n",
        "주석입니다\"\"\"\n"
      ],
      "metadata": {
        "colab": {
          "base_uri": "https://localhost:8080/",
          "height": 35
        },
        "id": "LCTRd-DiE_mO",
        "outputId": "aa4ab90c-29cb-4e16-b7d2-12693fdf4c3d"
      },
      "execution_count": 4,
      "outputs": [
        {
          "output_type": "execute_result",
          "data": {
            "text/plain": [
              "' 여기도\\n주석입니다'"
            ],
            "application/vnd.google.colaboratory.intrinsic+json": {
              "type": "string"
            }
          },
          "metadata": {},
          "execution_count": 4
        }
      ]
    },
    {
      "cell_type": "code",
      "source": [
        "import keyword\n",
        "\n",
        "print(keyword.kwlist)"
      ],
      "metadata": {
        "colab": {
          "base_uri": "https://localhost:8080/"
        },
        "id": "AZ9t5caeGPNu",
        "outputId": "42535a31-c1e3-4b26-c085-f7bc5cfb7bf5"
      },
      "execution_count": 5,
      "outputs": [
        {
          "output_type": "stream",
          "name": "stdout",
          "text": [
            "['False', 'None', 'True', 'and', 'as', 'assert', 'async', 'await', 'break', 'class', 'continue', 'def', 'del', 'elif', 'else', 'except', 'finally', 'for', 'from', 'global', 'if', 'import', 'in', 'is', 'lambda', 'nonlocal', 'not', 'or', 'pass', 'raise', 'return', 'try', 'while', 'with', 'yield']\n"
          ]
        }
      ]
    },
    {
      "cell_type": "code",
      "source": [
        "x=0b1011\n",
        "a=0o52\n",
        "b=0xff\n",
        "print(x)\n",
        "print(a)\n",
        "print(b)"
      ],
      "metadata": {
        "colab": {
          "base_uri": "https://localhost:8080/"
        },
        "id": "XBbKPGD7HLZ-",
        "outputId": "45191963-10b6-4474-acbf-ac50d22ca204"
      },
      "execution_count": 9,
      "outputs": [
        {
          "output_type": "stream",
          "name": "stdout",
          "text": [
            "11\n",
            "42\n",
            "255\n"
          ]
        }
      ]
    },
    {
      "cell_type": "code",
      "source": [
        "x = 4.23e+8\n",
        "print(x)\n",
        "x = 4.23e-3\n",
        "print(x)"
      ],
      "metadata": {
        "colab": {
          "base_uri": "https://localhost:8080/"
        },
        "id": "TMSFwx8qHzUu",
        "outputId": "2e25b718-1718-4faf-8cc6-99a0c3cc65e5"
      },
      "execution_count": 12,
      "outputs": [
        {
          "output_type": "stream",
          "name": "stdout",
          "text": [
            "423000000.0\n",
            "0.00423\n"
          ]
        }
      ]
    },
    {
      "cell_type": "code",
      "source": [
        "num = 10\n",
        "word = \"abc\"\n",
        "\n",
        "print(str(num)+word)"
      ],
      "metadata": {
        "colab": {
          "base_uri": "https://localhost:8080/"
        },
        "id": "ilKuuENbKXn3",
        "outputId": "baec4f35-2aae-42b6-a2f8-7296637d6518"
      },
      "execution_count": 16,
      "outputs": [
        {
          "output_type": "stream",
          "name": "stdout",
          "text": [
            "10abc\n"
          ]
        }
      ]
    },
    {
      "cell_type": "code",
      "source": [
        "type(True)\n",
        "\n",
        "\n",
        "\n",
        "\n"
      ],
      "metadata": {
        "colab": {
          "base_uri": "https://localhost:8080/"
        },
        "id": "OVOd2-QtLd1_",
        "outputId": "ecd6ca60-abd9-4a82-a199-59746ff7d1d8"
      },
      "execution_count": 20,
      "outputs": [
        {
          "output_type": "execute_result",
          "data": {
            "text/plain": [
              "bool"
            ]
          },
          "metadata": {},
          "execution_count": 20
        }
      ]
    },
    {
      "cell_type": "code",
      "source": [
        "x=10\n",
        "y=2\n",
        "z= x//y\n",
        "print(z)\n",
        "z=x**y\n",
        "print(z)"
      ],
      "metadata": {
        "colab": {
          "base_uri": "https://localhost:8080/"
        },
        "id": "wSCLBX-tPvZ1",
        "outputId": "2fab0297-349e-4e7d-a34d-ebbf86fd030a"
      },
      "execution_count": 26,
      "outputs": [
        {
          "output_type": "stream",
          "name": "stdout",
          "text": [
            "5\n",
            "100\n"
          ]
        }
      ]
    },
    {
      "cell_type": "code",
      "source": [
        "a=\"Hello, world\"\n",
        "\"H\" in a\n"
      ],
      "metadata": {
        "colab": {
          "base_uri": "https://localhost:8080/"
        },
        "id": "iIJcEAf9RqkQ",
        "outputId": "77a19f55-a649-4c1c-b1f6-73ccbf669762"
      },
      "execution_count": 32,
      "outputs": [
        {
          "output_type": "execute_result",
          "data": {
            "text/plain": [
              "True"
            ]
          },
          "metadata": {},
          "execution_count": 32
        }
      ]
    },
    {
      "cell_type": "code",
      "source": [
        "name = \"kim\"\n",
        "age = 20\n",
        "height=177.7\n",
        "a=\"name %s, age %d, height %.1f.\"%(name,age,height)\n",
        "print(a)"
      ],
      "metadata": {
        "colab": {
          "base_uri": "https://localhost:8080/"
        },
        "id": "A-G5Ei5VUq6_",
        "outputId": "15f55d1e-a0c7-45aa-eaf6-231460e2bc35"
      },
      "execution_count": 35,
      "outputs": [
        {
          "output_type": "stream",
          "name": "stdout",
          "text": [
            "name kim, age 20, height 177.7.\n"
          ]
        }
      ]
    },
    {
      "cell_type": "code",
      "source": [
        "decimal_num=10\n",
        "binary_num = bin(decimal_num)"
      ],
      "metadata": {
        "id": "UvampfMrWR3w"
      },
      "execution_count": 37,
      "outputs": []
    },
    {
      "cell_type": "code",
      "source": [
        "print(\"%d, %s\" %(decimal_num,binary_num))\n"
      ],
      "metadata": {
        "colab": {
          "base_uri": "https://localhost:8080/"
        },
        "id": "TOeunMJpWaMH",
        "outputId": "67e3ee6b-658c-47ed-f952-3ef762a8fbe7"
      },
      "execution_count": 49,
      "outputs": [
        {
          "output_type": "stream",
          "name": "stdout",
          "text": [
            "10, 0b1010\n"
          ]
        }
      ]
    },
    {
      "cell_type": "code",
      "source": [
        "a=20\n",
        "b=3\n",
        "c=2\n",
        "d=1\n",
        "e=1.23\n",
        "f=90\n",
        "g=10\n",
        "print(\"My name is Tom and I am %d years old.\"%(a))\n",
        "print(\"I have %d apples, %d oranges, and %d banana.\"%(b,c,d))\n",
        "print(\"The result is %.2f.\"%(e))\n",
        "print(\"Your score is %d.\"%(f))\n",
        "print(\"10+20=\",a+g)\n"
      ],
      "metadata": {
        "colab": {
          "base_uri": "https://localhost:8080/"
        },
        "id": "oVX6nxQwaWOK",
        "outputId": "de277e3e-c8a2-4b4d-b537-49a34e729b84"
      },
      "execution_count": 70,
      "outputs": [
        {
          "output_type": "stream",
          "name": "stdout",
          "text": [
            "My name is Tom and I am 20 years old.\n",
            "I have 3 apples, 2 oranges, and 1 banana.\n",
            "The result is 1.23.\n",
            "Your score is 90.\n",
            "10+20= 30\n"
          ]
        }
      ]
    },
    {
      "cell_type": "code",
      "source": [
        "A = int(input(\"A의 값 입력\"))\n",
        "B = int(input(\"B의 값 입력\"))\n",
        "\n",
        "SUM = A+B\n",
        "DIV = A/B\n",
        "\n",
        "print(f\"{A}+{B}={SUM}\")\n",
        "print(f\"{A}/{B}={DIV:.2f}\")"
      ],
      "metadata": {
        "colab": {
          "base_uri": "https://localhost:8080/"
        },
        "id": "uxgu6Zf-eCpS",
        "outputId": "e8c92714-15cc-4231-e1e5-859e3d5d4d9d"
      },
      "execution_count": 76,
      "outputs": [
        {
          "output_type": "stream",
          "name": "stdout",
          "text": [
            "A의 값 입력3\n",
            "B의 값 입력2\n",
            "3+2=5\n",
            "3/2=1.50\n"
          ]
        }
      ]
    },
    {
      "cell_type": "markdown",
      "source": [
        "![image.png]()"
      ],
      "metadata": {
        "id": "SIeAH55NfWzU"
      }
    },
    {
      "cell_type": "code",
      "source": [
        "sec1 = int(input(\"초를 입력하세요\"))\n",
        "min = sec1//60\n",
        "sec2 = sec1%60\n",
        "print(f\"{min}분 {sec2}초\")"
      ],
      "metadata": {
        "colab": {
          "base_uri": "https://localhost:8080/"
        },
        "id": "QEwweHdodeQS",
        "outputId": "3010ac1a-f244-43b9-aa0b-bd45b39ed42a"
      },
      "execution_count": 85,
      "outputs": [
        {
          "output_type": "stream",
          "name": "stdout",
          "text": [
            "초를 입력하세요200\n",
            "3분 20초\n"
          ]
        }
      ]
    },
    {
      "cell_type": "code",
      "source": [
        "min1 = int(input(\"분을 입력하세요\"))\n",
        "day = min1//1440\n",
        "hour = min1%1440//60\n",
        "min2 = min1%1440%60\n",
        "print(f\"{day}일 {hour}시간 {min2}분\")\n"
      ],
      "metadata": {
        "colab": {
          "base_uri": "https://localhost:8080/"
        },
        "id": "A6PHjD0HgZDD",
        "outputId": "816298e9-cfb4-47ad-ac95-4bd3da3f6e0c"
      },
      "execution_count": 94,
      "outputs": [
        {
          "output_type": "stream",
          "name": "stdout",
          "text": [
            "분을 입력하세요1550\n",
            "1일 1시간 50분\n"
          ]
        }
      ]
    },
    {
      "cell_type": "code",
      "source": [
        "money = 5000000\n",
        "x = money * 0.05\n",
        "sum = money+x *5\n",
        "print(f\"원리금 합계 = {sum:.0f}\")"
      ],
      "metadata": {
        "colab": {
          "base_uri": "https://localhost:8080/"
        },
        "id": "JEXnj9fPh3o8",
        "outputId": "6cbd5348-e41f-40a0-9510-618641d6bba2"
      },
      "execution_count": 107,
      "outputs": [
        {
          "output_type": "stream",
          "name": "stdout",
          "text": [
            "원리금 합계 = 6250000\n"
          ]
        }
      ]
    },
    {
      "cell_type": "code",
      "source": [
        "n=100\n",
        "total = int(n*(n+1)/2)\n",
        "print(total)"
      ],
      "metadata": {
        "colab": {
          "base_uri": "https://localhost:8080/"
        },
        "id": "qN3e_ZuUibLk",
        "outputId": "85ef7522-0858-49b2-a8f4-7e0b35e9bba9"
      },
      "execution_count": 102,
      "outputs": [
        {
          "output_type": "stream",
          "name": "stdout",
          "text": [
            "5050\n"
          ]
        }
      ]
    },
    {
      "cell_type": "code",
      "source": [
        "grape=75\n",
        "straw=113.5\n",
        "grape_num = int(input(\"포도 알 개수 입력:\"))\n",
        "straw_num = int(input(\"딸기 개수 입력:\"))\n",
        "total = (grape*grape_num) + (straw*straw_num)\n",
        "print(total)"
      ],
      "metadata": {
        "colab": {
          "base_uri": "https://localhost:8080/"
        },
        "id": "MqrMHiPMipyD",
        "outputId": "9196dffa-49b2-4e98-f483-ff4b2344f546"
      },
      "execution_count": 106,
      "outputs": [
        {
          "output_type": "stream",
          "name": "stdout",
          "text": [
            "포도 알 개수 입력:3\n",
            "딸기 개수 입력:5\n",
            "792.5\n"
          ]
        }
      ]
    },
    {
      "cell_type": "markdown",
      "source": [
        "초를 입력하면 분과 초로 표시하는 프로그램. 예를 들어, 200초를 입력하면 3분 20초로 표현하라\n",
        "\n",
        "분(min)을 입력 하면, 일, 시간, 분으로 출력하는 프로그램을 만들어라. (예 : 1550분은 1일 1시간 50분)\n",
        "\n",
        "500만원을 년이율 5%로 복리 저금했을 때 5년 후의 원리금의 합계를 출력하는 프로그램\n",
        "\n",
        "1부터 n까지의 합은 n(n+1)/2로 주어진다. 1부터 100까지의 합을 구하여 출력하는 프로그램을 작성하고 실행하라.\n",
        "\n",
        "판매자가 딸기와 포도를 판매하고 있다. 포도 한 알의 무게는 75g이고 딸기 한 알의 무게는 113.5g이다. 사용자로부터 포도 알의 개수와 딸기의 개수를 입력 받아 총 무게를 계산하여 출력하는 프로그램을 작성하고 실행하라.\n"
      ],
      "metadata": {
        "id": "54uToo03fY28"
      }
    }
  ]
}